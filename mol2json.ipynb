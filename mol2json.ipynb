{
 "cells": [
  {
   "cell_type": "code",
   "execution_count": 9,
   "id": "8f23a962",
   "metadata": {},
   "outputs": [],
   "source": [
    "import json\n",
    "from enum import Enum\n",
    "from rdkit import Chem\n",
    "from pydantic import BaseModel\n",
    "from typing import List"
   ]
  },
  {
   "cell_type": "code",
   "execution_count": 10,
   "id": "a8aba704",
   "metadata": {},
   "outputs": [],
   "source": [
    "# Define atom type enum\n",
    "class AtomTypeEnum(str, Enum):\n",
    "    H = \"H\"\n",
    "    C = \"C\"\n",
    "    N = \"N\"\n",
    "    O = \"O\"\n",
    "    F = \"F\""
   ]
  },
  {
   "cell_type": "code",
   "execution_count": 11,
   "id": "19c40def",
   "metadata": {},
   "outputs": [],
   "source": [
    "# Define Bond model\n",
    "class Bond(BaseModel):\n",
    "    atom: 'Atom'\n",
    "    bond_type: str\n",
    "\n",
    "# Define Atom model\n",
    "class Atom(BaseModel):\n",
    "    atom_id: int\n",
    "    atom_type: AtomTypeEnum\n",
    "    bonds: List[Bond]"
   ]
  },
  {
   "cell_type": "code",
   "execution_count": 7,
   "id": "8bcd70f6",
   "metadata": {},
   "outputs": [
    {
     "name": "stderr",
     "output_type": "stream",
     "text": [
      "/var/folders/z1/tgqk7h7909s6y4mnlllzyf_h0000gp/T/ipykernel_34256/3570181828.py:2: PydanticDeprecatedSince20: The `update_forward_refs` method is deprecated; use `model_rebuild` instead. Deprecated in Pydantic V2.0 to be removed in V3.0. See Pydantic V2 Migration Guide at https://errors.pydantic.dev/2.11/migration/\n",
      "  Bond.update_forward_refs()\n"
     ]
    }
   ],
   "source": [
    "# Needed to resolve forward references in Pydantic\n",
    "Bond.update_forward_refs()"
   ]
  },
  {
   "cell_type": "code",
   "execution_count": 7,
   "id": "13beb0cf",
   "metadata": {},
   "outputs": [],
   "source": [
    "def smiles_to_tree(atom_format, bond_format, atom_type_enum, smiles: str):\n",
    "    mol = Chem.MolFromSmiles(smiles)\n",
    "    atom_idx_to_atom = {}\n",
    "    visited_atoms = set()\n",
    "    queue = []\n",
    "    added_bonds = set([])\n",
    "\n",
    "    # Initialize with the first atom\n",
    "    for atom in mol.GetAtoms():\n",
    "        if atom.GetIdx() == 0:\n",
    "            atom_molecule = atom_format(atom_id=atom.GetIdx(),\n",
    "                                        atom_type=atom_type_enum(atom.GetSymbol()),\n",
    "                                        bonds=[])\n",
    "            atom_idx_to_atom[atom.GetIdx()] = atom_molecule\n",
    "            queue.append((None, atom.GetIdx(), None))\n",
    "            break\n",
    "\n",
    "    # Process the queue using BFS\n",
    "    while queue:\n",
    "        parent_idx, current_idx, bond_type = queue.pop(0)\n",
    "        current_atom = atom_idx_to_atom[current_idx]\n",
    "        if parent_idx is not None:\n",
    "            if current_idx in visited_atoms:\n",
    "                current_atom = atom_format(atom_id=current_idx,\n",
    "                                           atom_type=atom_type_enum(mol.GetAtomWithIdx(current_idx).GetSymbol()),\n",
    "                                           bonds=[])\n",
    "            parent_atom = atom_idx_to_atom[parent_idx]\n",
    "            bond = bond_format(atom=current_atom, bond_type=bond_type)\n",
    "            parent_atom.bonds.append(bond)\n",
    "            visited_atoms.add(current_idx)\n",
    "            visited_atoms.add(parent_idx)\n",
    "\n",
    "        for bond in mol.GetAtomWithIdx(current_idx).GetBonds():\n",
    "            neighbor_idx = bond.GetOtherAtomIdx(current_idx)\n",
    "            if (current_idx, neighbor_idx) not in added_bonds and (neighbor_idx, current_idx) not in added_bonds:\n",
    "                neighbor_bond_type = str(bond.GetBondType()).replace(\"BondType.\", \"\")\n",
    "                if neighbor_bond_type == \"DATIVE\":\n",
    "                    neighbor_bond_type = \"SINGLE\"\n",
    "                if neighbor_idx not in atom_idx_to_atom:\n",
    "                    neighbor_atom = atom_format(atom_id=neighbor_idx,\n",
    "                                                atom_type=atom_type_enum(mol.GetAtomWithIdx(neighbor_idx).GetSymbol()),\n",
    "                                                bonds=[])\n",
    "                    atom_idx_to_atom[neighbor_idx] = neighbor_atom\n",
    "                queue.append((current_idx, neighbor_idx, neighbor_bond_type))\n",
    "                added_bonds.add((current_idx, neighbor_idx))\n",
    "\n",
    "    return atom_idx_to_atom[0]\n"
   ]
  },
  {
   "cell_type": "code",
   "execution_count": 14,
   "id": "1ba6b486",
   "metadata": {},
   "outputs": [],
   "source": [
    "# Custom JSON serializer for Enum\n",
    "def custom_json_serializer(obj):\n",
    "    if isinstance(obj, Enum):\n",
    "        return obj.value\n",
    "    raise TypeError(\"Type not serializable\")"
   ]
  },
  {
   "cell_type": "code",
   "execution_count": 5,
   "id": "c2e4eb98",
   "metadata": {},
   "outputs": [
    {
     "data": {
      "text/plain": [
       "['C', 'N', 'O', 'C#C', 'C#N', 'C=O', 'CC', 'CO', 'CC#C', 'CC#N']"
      ]
     },
     "execution_count": 5,
     "metadata": {},
     "output_type": "execute_result"
    }
   ],
   "source": [
    "import pandas as pd\n",
    "\n",
    "data = pd.read_csv(\"./dataset/qm9.csv\")\n",
    "smiles_list = data['SMILES1'].tolist()\n",
    "smiles_list[:10]"
   ]
  },
  {
   "cell_type": "code",
   "execution_count": 12,
   "id": "4349041c",
   "metadata": {},
   "outputs": [],
   "source": [
    "mol_tree_list = []\n",
    "for smiles in smiles_list:\n",
    "    mol_tree = smiles_to_tree(Atom, Bond, AtomTypeEnum, smiles)\n",
    "    mol_tree_list.append(mol_tree)"
   ]
  },
  {
   "cell_type": "code",
   "execution_count": 17,
   "id": "1f79e407",
   "metadata": {},
   "outputs": [
    {
     "name": "stderr",
     "output_type": "stream",
     "text": [
      "/tmp/ipykernel_62274/731948994.py:1: PydanticDeprecatedSince20: The `dict` method is deprecated; use `model_dump` instead. Deprecated in Pydantic V2.0 to be removed in V3.0. See Pydantic V2 Migration Guide at https://errors.pydantic.dev/2.11/migration/\n",
      "  molecule_json = json.dumps([mol.dict() for mol in mol_tree_list], indent=2, default=custom_json_serializer)\n"
     ]
    }
   ],
   "source": [
    "molecule_json = json.dumps([mol.dict() for mol in mol_tree_list], indent=2, default=custom_json_serializer)"
   ]
  },
  {
   "cell_type": "code",
   "execution_count": 18,
   "id": "e6dbc3a6",
   "metadata": {},
   "outputs": [],
   "source": [
    "with open(\"./outputs/mol2json.json\", \"w\") as f:\n",
    "    f.write(molecule_json)"
   ]
  },
  {
   "cell_type": "code",
   "execution_count": 2,
   "id": "04a749a8",
   "metadata": {},
   "outputs": [
    {
     "ename": "NameError",
     "evalue": "name 'smiles_to_tree' is not defined",
     "output_type": "error",
     "traceback": [
      "\u001b[31m---------------------------------------------------------------------------\u001b[39m",
      "\u001b[31mNameError\u001b[39m                                 Traceback (most recent call last)",
      "\u001b[36mCell\u001b[39m\u001b[36m \u001b[39m\u001b[32mIn[2]\u001b[39m\u001b[32m, line 2\u001b[39m\n\u001b[32m      1\u001b[39m smiles = \u001b[33m\"\u001b[39m\u001b[33mC1=CC1\u001b[39m\u001b[33m\"\u001b[39m  \u001b[38;5;66;03m# Cyclopropane with a hydroxymethyl group\u001b[39;00m\n\u001b[32m----> \u001b[39m\u001b[32m2\u001b[39m molecule = \u001b[43msmiles_to_tree\u001b[49m(Atom, Bond, AtomTypeEnum, smiles)\n\u001b[32m      4\u001b[39m \u001b[38;5;28mtype\u001b[39m(molecule)\n",
      "\u001b[31mNameError\u001b[39m: name 'smiles_to_tree' is not defined"
     ]
    }
   ],
   "source": [
    "smiles = \"C1=CC1\"  # Cyclopropane with a hydroxymethyl group\n",
    "molecule = smiles_to_tree(Atom, Bond, AtomTypeEnum, smiles)\n",
    "\n",
    "type(molecule)"
   ]
  },
  {
   "cell_type": "code",
   "execution_count": 13,
   "id": "1cbcbd7c",
   "metadata": {},
   "outputs": [
    {
     "name": "stderr",
     "output_type": "stream",
     "text": [
      "/var/folders/z1/tgqk7h7909s6y4mnlllzyf_h0000gp/T/ipykernel_34256/3890830084.py:1: PydanticDeprecatedSince20: The `dict` method is deprecated; use `model_dump` instead. Deprecated in Pydantic V2.0 to be removed in V3.0. See Pydantic V2 Migration Guide at https://errors.pydantic.dev/2.11/migration/\n",
      "  molecule_json = json.dumps(molecule.dict(), indent=2, default=custom_json_serializer)\n"
     ]
    },
    {
     "data": {
      "text/plain": [
       "'{\\n  \"atom_id\": 0,\\n  \"atom_type\": \"C\",\\n  \"bonds\": [\\n    {\\n      \"atom\": {\\n        \"atom_id\": 1,\\n        \"atom_type\": \"C\",\\n        \"bonds\": [\\n          {\\n            \"atom\": {\\n              \"atom_id\": 2,\\n              \"atom_type\": \"C\",\\n              \"bonds\": []\\n            },\\n            \"bond_type\": \"SINGLE\"\\n          }\\n        ]\\n      },\\n      \"bond_type\": \"DOUBLE\"\\n    },\\n    {\\n      \"atom\": {\\n        \"atom_id\": 2,\\n        \"atom_type\": \"C\",\\n        \"bonds\": []\\n      },\\n      \"bond_type\": \"SINGLE\"\\n    }\\n  ]\\n}'"
      ]
     },
     "execution_count": 13,
     "metadata": {},
     "output_type": "execute_result"
    }
   ],
   "source": [
    "molecule_json = json.dumps(molecule.dict(), indent=2, default=custom_json_serializer)\n",
    "molecule_json"
   ]
  },
  {
   "cell_type": "code",
   "execution_count": 14,
   "id": "1b232527",
   "metadata": {},
   "outputs": [
    {
     "data": {
      "image/png": "[encoded data removed]",
      "text/plain": [
       "<rdkit.Chem.rdchem.Mol at 0x120beb370>"
      ]
     },
     "execution_count": 14,
     "metadata": {},
     "output_type": "execute_result"
    }
   ],
   "source": [
    "smiles = \"C1=CC1\"  # Cyclopropane with a hydroxymethyl group\n",
    "Chem.MolFromSmiles(smiles)"
   ]
  },
  {
   "cell_type": "code",
   "execution_count": 16,
   "id": "339b879b",
   "metadata": {},
   "outputs": [
    {
     "name": "stderr",
     "output_type": "stream",
     "text": [
      "[19:53:05] SMILES Parse Error: ring closure 1 duplicates bond between atom 0 and atom 3 for input: 'C1(CO)C1'\n"
     ]
    }
   ],
   "source": [
    "smiles2 = \"C1(CO)C1\"\n",
    "Chem.MolFromSmiles(smiles2)"
   ]
  },
  {
   "cell_type": "code",
   "execution_count": null,
   "id": "910aa9fa",
   "metadata": {},
   "outputs": [],
   "source": []
  }
 ],
 "metadata": {
  "kernelspec": {
   "display_name": "MotifLLM",
   "language": "python",
   "name": "python3"
  },
  "language_info": {
   "codemirror_mode": {
    "name": "ipython",
    "version": 3
   },
   "file_extension": ".py",
   "mimetype": "text/x-python",
   "name": "python",
   "nbconvert_exporter": "python",
   "pygments_lexer": "ipython3",
   "version": "3.13.2"
  }
 },
 "nbformat": 4,
 "nbformat_minor": 5
}
